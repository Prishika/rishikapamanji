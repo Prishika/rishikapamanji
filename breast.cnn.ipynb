{
 "cells": [
  {
   "cell_type": "code",
   "execution_count": 1,
   "metadata": {},
   "outputs": [
    {
     "name": "stderr",
     "output_type": "stream",
     "text": [
      "Using TensorFlow backend.\n"
     ]
    },
    {
     "name": "stdout",
     "output_type": "stream",
     "text": [
      "Found 392 images belonging to 2 classes.\n",
      "Found 392 images belonging to 2 classes.\n",
      "Epoch 1/10\n",
      "392/392 [==============================] - 298s 754ms/step - loss: 0.7118 - accuracy: 0.4579 - val_loss: 0.6932 - val_accuracy: 0.5000\n",
      "Epoch 2/10\n",
      "392/392 [==============================] - 300s 767ms/step - loss: 0.6957 - accuracy: 0.4739 - val_loss: 0.6932 - val_accuracy: 0.5000\n",
      "Epoch 3/10\n",
      "392/392 [==============================] - 271s 693ms/step - loss: 0.6955 - accuracy: 0.4320 - val_loss: 0.6932 - val_accuracy: 0.5000\n",
      "Epoch 4/10\n",
      "392/392 [==============================] - 252s 643ms/step - loss: 0.6938 - accuracy: 0.4531 - val_loss: 0.6932 - val_accuracy: 0.5000\n",
      "Epoch 5/10\n",
      "392/392 [==============================] - 165s 422ms/step - loss: 0.6933 - accuracy: 0.5100 - val_loss: 0.6931 - val_accuracy: 0.5000\n",
      "Epoch 6/10\n",
      "392/392 [==============================] - 78s 198ms/step - loss: 0.6936 - accuracy: 0.4778 - val_loss: 0.6941 - val_accuracy: 0.5000\n",
      "Epoch 7/10\n",
      "392/392 [==============================] - 75s 191ms/step - loss: 0.6952 - accuracy: 0.4955 - val_loss: 0.6931 - val_accuracy: 0.5000\n",
      "Epoch 8/10\n",
      "392/392 [==============================] - 74s 188ms/step - loss: 0.6936 - accuracy: 0.5257 - val_loss: 0.6932 - val_accuracy: 0.5000\n",
      "Epoch 9/10\n",
      "392/392 [==============================] - 71s 182ms/step - loss: 0.6934 - accuracy: 0.4846 - val_loss: 0.6931 - val_accuracy: 0.5000\n",
      "Epoch 10/10\n",
      "392/392 [==============================] - 72s 184ms/step - loss: 0.6933 - accuracy: 0.4954 - val_loss: 0.6931 - val_accuracy: 0.5000\n",
      "392/392 [==============================] - 14s 35ms/step - loss: 0.6931 - accuracy: 0.5000\n",
      "\n",
      "Accuracy:  0.5 \n",
      "Loss:  0.693149745464325\n"
     ]
    }
   ],
   "source": [
    "#from keras.models import Sequential\n",
    "#from keras.layers import Conv2D, MaxPooling2D\n",
    "#from keras.layers import MaxPooling2D\n",
    "#from keras.layers import Activation, Dropout, Flatten, Dense\n",
    "from keras.layers import Flatten\n",
    "from tensorflow.keras import Sequential\n",
    "from tensorflow.keras.layers import Conv2D, Flatten, Dense, Activation,MaxPooling2D,Dropout\n",
    "#keras.layers.core.Activation\n",
    "\n",
    "model = Sequential()\n",
    "model.add(Conv2D(32, (3, 3), input_shape=(25, 25, 3)))\n",
    "model.add(Activation('relu'))\n",
    "model.add(MaxPooling2D(pool_size=(2, 2), padding = 'same'))\n",
    "\n",
    "model.add(Conv2D(64, (3, 3)))\n",
    "model.add(Activation('relu'))\n",
    "model.add(MaxPooling2D(pool_size=(2, 2)))\n",
    "\n",
    "model.add(Conv2D(128, (3, 3)))\n",
    "model.add(Activation('relu'))\n",
    "model.add(MaxPooling2D(pool_size=(2, 2)))\n",
    "\n",
    "model.add(Flatten())\n",
    "model.add(Dense(64))\n",
    "model.add(Activation('relu'))\n",
    "model.add(Dropout(0.5))\n",
    "model.add(Dense(1))\n",
    "model.add(Activation('sigmoid'))\n",
    "\n",
    "model.compile(loss = 'binary_crossentropy',\n",
    "              optimizer = 'rmsprop',\n",
    "              metrics = ['accuracy'])\n",
    "\n",
    "batch_size = 1\n",
    "# Training Augmentation configuration\n",
    "from keras.preprocessing.image import ImageDataGenerator\n",
    "\n",
    "train_datagen = ImageDataGenerator(rescale = 1./255, \n",
    "                                   shear_range = 0.2,\n",
    "                                   zoom_range = 0.2,\n",
    "                                   horizontal_flip = True)\n",
    "\n",
    "# Testing Augmentation - Only Rescaling\n",
    "test_datagen = ImageDataGenerator(rescale = 1./255)\n",
    "\n",
    "# Generates batches of Augmented Image data\n",
    "train_generator = train_datagen.flow_from_directory('breast/', target_size = (300, 300), \n",
    "                                                    batch_size = batch_size,\n",
    "                                                    class_mode = 'binary') \n",
    "\n",
    "# Generator for validation data\n",
    "validation_generator = test_datagen.flow_from_directory('breast/', \n",
    "                                                        target_size = (300, 300),\n",
    "                                                        batch_size = batch_size,\n",
    "                                                        class_mode = 'binary')\n",
    "model.fit(train_generator,\n",
    "                    epochs = 10,\n",
    "                    validation_data = validation_generator,\n",
    "                    verbose = 1)\n",
    "# Evaluating model performance on Testing data\n",
    "loss, accuracy = model.evaluate(validation_generator)\n",
    "\n",
    "print('\\nAccuracy: ', accuracy, '\\nLoss: ', loss)\n"
   ]
  },
  {
   "cell_type": "code",
   "execution_count": null,
   "metadata": {},
   "outputs": [],
   "source": []
  }
 ],
 "metadata": {
  "kernelspec": {
   "display_name": "Python 3",
   "language": "python",
   "name": "python3"
  },
  "language_info": {
   "codemirror_mode": {
    "name": "ipython",
    "version": 3
   },
   "file_extension": ".py",
   "mimetype": "text/x-python",
   "name": "python",
   "nbconvert_exporter": "python",
   "pygments_lexer": "ipython3",
   "version": "3.8.5"
  }
 },
 "nbformat": 4,
 "nbformat_minor": 4
}
