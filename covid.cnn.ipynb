{
 "cells": [
  {
   "cell_type": "code",
   "execution_count": 1,
   "metadata": {},
   "outputs": [
    {
     "name": "stderr",
     "output_type": "stream",
     "text": [
      "Using TensorFlow backend.\n"
     ]
    },
    {
     "name": "stdout",
     "output_type": "stream",
     "text": [
      "Found 196 images belonging to 2 classes.\n",
      "Found 196 images belonging to 2 classes.\n",
      "Epoch 1/10\n",
      "196/196 [==============================] - 134s 673ms/step - loss: 0.7362 - accuracy: 0.6894 - val_loss: 0.6061 - val_accuracy: 0.7653\n",
      "Epoch 2/10\n",
      "196/196 [==============================] - 161s 820ms/step - loss: 0.6363 - accuracy: 0.7694 - val_loss: 0.5514 - val_accuracy: 0.7653\n",
      "Epoch 3/10\n",
      "196/196 [==============================] - 161s 821ms/step - loss: 0.6165 - accuracy: 0.7647 - val_loss: 0.5986 - val_accuracy: 0.7653\n",
      "Epoch 4/10\n",
      "196/196 [==============================] - 147s 749ms/step - loss: 0.6607 - accuracy: 0.7800 - val_loss: 0.5349 - val_accuracy: 0.7653\n",
      "Epoch 5/10\n",
      "196/196 [==============================] - 151s 771ms/step - loss: 0.6255 - accuracy: 0.7752 - val_loss: 0.5712 - val_accuracy: 0.7653\n",
      "Epoch 6/10\n",
      "196/196 [==============================] - 129s 657ms/step - loss: 0.5812 - accuracy: 0.7968 - val_loss: 0.5466 - val_accuracy: 0.7653\n",
      "Epoch 7/10\n",
      "196/196 [==============================] - 126s 642ms/step - loss: 0.6553 - accuracy: 0.7239 - val_loss: 1.1332 - val_accuracy: 0.7653\n",
      "Epoch 8/10\n",
      "196/196 [==============================] - 129s 658ms/step - loss: 0.6918 - accuracy: 0.7543 - val_loss: 0.5662 - val_accuracy: 0.7653\n",
      "Epoch 9/10\n",
      "196/196 [==============================] - 97s 494ms/step - loss: 0.6094 - accuracy: 0.7727 - val_loss: 0.5417 - val_accuracy: 0.7653\n",
      "Epoch 10/10\n",
      "196/196 [==============================] - 78s 397ms/step - loss: 0.6104 - accuracy: 0.7619 - val_loss: 1.6598 - val_accuracy: 0.7653\n",
      "196/196 [==============================] - 17s 84ms/step - loss: 1.6598 - accuracy: 0.7653\n",
      "\n",
      "Accuracy:  0.7653061151504517 \n",
      "Loss:  1.6597788333892822\n"
     ]
    }
   ],
   "source": [
    "#from keras.layers import MaxPooling2D\n",
    "#from keras.layers import Activation, Dropout, Flatten, Dense\n",
    "from keras.layers import Flatten\n",
    "from tensorflow.keras import Sequential\n",
    "from tensorflow.keras.layers import Conv2D, Flatten, Dense, Activation,MaxPooling2D,Dropout\n",
    "#keras.layers.core.Activation\n",
    "\n",
    "model = Sequential()\n",
    "model.add(Conv2D(32, (3, 3), input_shape=(25, 25, 3)))\n",
    "model.add(Activation('relu'))\n",
    "model.add(MaxPooling2D(pool_size=(2, 2), padding = 'same'))\n",
    "\n",
    "model.add(Conv2D(64, (3, 3)))\n",
    "model.add(Activation('relu'))\n",
    "model.add(MaxPooling2D(pool_size=(2, 2)))\n",
    "\n",
    "model.add(Conv2D(128, (3, 3)))\n",
    "model.add(Activation('relu'))\n",
    "model.add(MaxPooling2D(pool_size=(2, 2)))\n",
    "\n",
    "model.add(Flatten())\n",
    "model.add(Dense(64))\n",
    "model.add(Activation('relu'))\n",
    "model.add(Dropout(0.5))\n",
    "model.add(Dense(1))\n",
    "model.add(Activation('sigmoid'))\n",
    "\n",
    "model.compile(loss = 'binary_crossentropy',\n",
    "              optimizer = 'rmsprop',\n",
    "              metrics = ['accuracy'])\n",
    "\n",
    "batch_size = 1\n",
    "# Training Augmentation configuration\n",
    "from keras.preprocessing.image import ImageDataGenerator\n",
    "\n",
    "train_datagen = ImageDataGenerator(rescale = 1./255, \n",
    "                                   shear_range = 0.2,\n",
    "                                   zoom_range = 0.2,\n",
    "                                   horizontal_flip = True)\n",
    "\n",
    "# Testing Augmentation - Only Rescaling\n",
    "test_datagen = ImageDataGenerator(rescale = 1./255)\n",
    "\n",
    "# Generates batches of Augmented Image data\n",
    "train_generator = train_datagen.flow_from_directory('covid/', target_size = (300, 300), \n",
    "                                                    batch_size = batch_size,\n",
    "                                                    class_mode = 'binary') \n",
    "\n",
    "# Generator for validation data\n",
    "validation_generator = test_datagen.flow_from_directory('covid/', \n",
    "                                                        target_size = (300, 300),\n",
    "                                                        batch_size = batch_size,\n",
    "                                                        class_mode = 'binary')\n",
    "model.fit(train_generator,\n",
    "                    epochs = 10,\n",
    "                    validation_data = validation_generator,\n",
    "                    verbose = 1)\n",
    "\n",
    "# Evaluating model performance on Testing data\n",
    "loss, accuracy = model.evaluate(validation_generator)\n",
    "\n",
    "print('\\nAccuracy: ', accuracy, '\\nLoss: ', loss)\n"
   ]
  },
  {
   "cell_type": "code",
   "execution_count": null,
   "metadata": {},
   "outputs": [],
   "source": []
  }
 ],
 "metadata": {
  "kernelspec": {
   "display_name": "Python 3",
   "language": "python",
   "name": "python3"
  },
  "language_info": {
   "codemirror_mode": {
    "name": "ipython",
    "version": 3
   },
   "file_extension": ".py",
   "mimetype": "text/x-python",
   "name": "python",
   "nbconvert_exporter": "python",
   "pygments_lexer": "ipython3",
   "version": "3.8.5"
  }
 },
 "nbformat": 4,
 "nbformat_minor": 4
}
